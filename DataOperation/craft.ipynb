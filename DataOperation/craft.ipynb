{
 "cells": [
  {
   "cell_type": "code",
   "execution_count": 6,
   "metadata": {
    "collapsed": true
   },
   "outputs": [
    {
     "name": "stdout",
     "output_type": "stream",
     "text": [
      "torch.Size([667, 1000, 3])\n"
     ]
    }
   ],
   "source": [
    "import cv2\n",
    "import torch\n",
    "result = cv2.imread(\"pic.jpg\")\n",
    "t = torch.from_numpy(result)\n",
    "print(t.shape)\n",
    "t2 = t.sum(axis=2)\n",
    "t2_num = t2.numpy()"
   ]
  }
 ],
 "metadata": {
  "kernelspec": {
   "display_name": "Python 3",
   "language": "python",
   "name": "python3"
  },
  "language_info": {
   "codemirror_mode": {
    "name": "ipython",
    "version": 2
   },
   "file_extension": ".py",
   "mimetype": "text/x-python",
   "name": "python",
   "nbconvert_exporter": "python",
   "pygments_lexer": "ipython2",
   "version": "2.7.6"
  }
 },
 "nbformat": 4,
 "nbformat_minor": 0
}