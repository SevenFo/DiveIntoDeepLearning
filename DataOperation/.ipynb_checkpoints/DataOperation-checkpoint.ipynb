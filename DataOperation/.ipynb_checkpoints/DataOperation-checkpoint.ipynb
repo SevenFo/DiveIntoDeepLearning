{
 "cells": [
  {
   "cell_type": "markdown",
   "metadata": {
    "collapsed": true,
    "pycharm": {
     "name": "#%% md\n"
    }
   },
   "source": [
    "## 数据处理\n",
    "### 数组的操作\n",
    "1. 创建数组\n",
    "    1. 形状 类型 值\n",
    "2. 访问数组\n",
    "    1. [row,col] 先行后列，从0开始\n",
    "    2. `:` 表示一个范围，前闭后开：1:3表示1，2两行/列；单独的`:`表示改集合内的所有元素（一整行或一整列等）\n",
    "    3. `::`表示均匀间隔：`0::3/::3`：表示`0 3 6 9 ...`"
   ]
  },
  {
   "cell_type": "code",
   "execution_count": 1,
   "metadata": {
    "pycharm": {
     "name": "#%%\n"
    }
   },
   "outputs": [],
   "source": [
    "import numpy as np\n",
    "import torch\n",
    "\n",
    "x = torch.arange(12) # 生成一维的顺序序列\n",
    "x = x.reshape(3.4) # 只改变形状\n",
    "\n",
    "z = torch.zeros((2,3,5))\n",
    "z = torch.ones()\n",
    "\n",
    "# 还可以使用python的List来生成一个tensor\n",
    "\n",
    "# 按元素进行四则运算和幂运算\n",
    "\n",
    "# tensor的连接\n",
    "x = torch.arange(12,tdype = torch.float).reshape(3.4)\n",
    "Y = torch.tensor([100,100,100,100])\n"
   ]
  }
 ],
 "metadata": {
  "kernelspec": {
   "display_name": "Python[conda env:yolox]",
   "language": "python",
   "name": "yolox"
  },
  "language_info": {
   "codemirror_mode": {
    "name": "ipython",
    "version": 3
   },
   "file_extension": ".py",
   "mimetype": "text/x-python",
   "name": "python",
   "nbconvert_exporter": "python",
   "pygments_lexer": "ipython3",
   "version": "3.8.11"
  }
 },
 "nbformat": 4,
 "nbformat_minor": 1
}
